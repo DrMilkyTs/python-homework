{
 "cells": [
  {
   "cell_type": "code",
   "execution_count": 2,
   "id": "ba4dd2dc",
   "metadata": {},
   "outputs": [
    {
     "name": "stdout",
     "output_type": "stream",
     "text": [
      "Financial Analysis\n",
      "----------------------------\n",
      "Total Months: 86\n",
      "Total: $38382578\n",
      "Average Change: $-2288.2\n",
      "Greatest Increase in Profits: Feb-2012 $1170593\n",
      "Greatest Decrease in Profits: Sep-2013 $-1196225\n"
     ]
    }
   ],
   "source": [
    "from pathlib import Path\n",
    "import csv\n",
    "\n",
    "file = Path(\"C:\\\\Users\\\\mfiaa\\\\OneDrive\\\\Desktop\\\\Github Projects\\\\python-homework-main\\\\PyBank\\\\budget_data.csv\") #path to budget_data.csv\n",
    "\n",
    "budget_data_records = {} #init record for budget_data\n",
    "month_count = 0 #init monthly counter (not including header)\n",
    "total_pnl = 0 #init total pnl\n",
    "monthly_changes = [] #init monthly change list\n",
    "total_monthly_changes = -867884 #init cumulative changes per month, neglecting starting pnl\n",
    "average_monthly_changes = 0 #init average change in pnl per month\n",
    "last_month_pnl = 0 #init last month pnl\n",
    "max_profit_key = '' #init biggest gain key\n",
    "max_profit_value = 0 #init biggest gain var\n",
    "max_loss_key = '' #init biggest loss key\n",
    "max_loss_value = 0 #init biggest loss var\n",
    "\n",
    "\n",
    "with open(file, 'r') as csvfile:\n",
    "\n",
    "    csvreader = csv.reader(csvfile, delimiter=\",\") #open csv reader\n",
    "\n",
    "    header = next(csvreader) #skips first line\n",
    "    \n",
    "    #print(header) #print header\n",
    "\n",
    "    for row in csvreader: # Stores budget_data.csv in a dict\n",
    "        date = row[0]\n",
    "        pnl = int(row[1])\n",
    "        budget_data_records[date] = {\"Profit/Losses\": pnl}\n",
    "\n",
    "        month_count += 1 #calculate total # of months\n",
    "        total_pnl += pnl #calculate total pnl over entire period\n",
    "\n",
    "        monthly_changes.append(pnl-last_month_pnl) #Stores monthly changes\n",
    "        \n",
    "        last_month_pnl = pnl #extra var to store last month pnl\n",
    "    \n",
    "    for row in monthly_changes: # iterates through monthly changes and adds them together\n",
    "        total_monthly_changes += row\n",
    "\n",
    "    average_monthly_changes = round(total_monthly_changes/month_count, 2) #average monthly change\n",
    "\n",
    "    for pnl_key, pnl_value in budget_data_records.items(): # Function to find biggest profit and loss\n",
    "        if pnl_value['Profit/Losses'] > max_profit_value:\n",
    "            max_profit_value = pnl_value['Profit/Losses']\n",
    "            max_profit_key = pnl_key\n",
    "        if pnl_value['Profit/Losses'] < max_loss_value:\n",
    "            max_loss_value = pnl_value['Profit/Losses']\n",
    "            max_loss_key = pnl_key\n",
    "\n",
    "    #print(budget_data_records)\n",
    "    #print(month_count)\n",
    "    #print(total_pnl)\n",
    "    #print(average_monthly_changes)\n",
    "    #print(max_profit_key, max_profit_value)\n",
    "    #print(max_loss_key, max_loss_value)\n",
    "\n",
    "print(f\"Financial Analysis\")\n",
    "print(f\"----------------------------\")\n",
    "print(f\"Total Months: {month_count}\")\n",
    "print(f\"Total: ${total_pnl}\")\n",
    "print(f\"Average Change: ${average_monthly_changes}\")\n",
    "print(f\"Greatest Increase in Profits: {max_profit_key} ${max_profit_value}\")\n",
    "print(f\"Greatest Decrease in Profits: {max_loss_key} ${max_loss_value}\")\n",
    "\n",
    "output_path = Path(\"C:\\\\Users\\\\mfiaa\\\\OneDrive\\\\Desktop\\\\Github Projects\\\\python-homework-main\\\\PyBank\\\\output.txt\") #path to output txt \n",
    "\n",
    "with open(output_path, 'w') as csvfile: #write to output txt file\n",
    "\n",
    "    csvfile.write(f\"Financial Analysis\\n\")\n",
    "    csvfile.write(f\"----------------------------\\n\")\n",
    "    csvfile.write(f\"Total Months: {month_count}\\n\")\n",
    "    csvfile.write(f\"Total: ${total_pnl}\\n\")\n",
    "    csvfile.write(f\"Average Change: ${average_monthly_changes}\\n\")\n",
    "    csvfile.write(f\"Greatest Increase in Profits: {max_profit_key} ${max_profit_value}\\n\")\n",
    "    csvfile.write(f\"Greatest Decrease in Profits: {max_loss_key} ${max_loss_value}\")\n",
    "\n",
    "\n"
   ]
  }
 ],
 "metadata": {
  "kernelspec": {
   "display_name": "Python 3.7.13 ('dev')",
   "language": "python",
   "name": "python3"
  },
  "language_info": {
   "codemirror_mode": {
    "name": "ipython",
    "version": 3
   },
   "file_extension": ".py",
   "mimetype": "text/x-python",
   "name": "python",
   "nbconvert_exporter": "python",
   "pygments_lexer": "ipython3",
   "version": "3.7.13"
  },
  "vscode": {
   "interpreter": {
    "hash": "631cac1a8f5ac7177f65ec46b4ee603f08e384b54623abeb910c5de2c84ee932"
   }
  }
 },
 "nbformat": 4,
 "nbformat_minor": 5
}
